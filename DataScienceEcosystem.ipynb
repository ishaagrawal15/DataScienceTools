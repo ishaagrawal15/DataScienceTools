{
 "cells": [
  {
   "cell_type": "markdown",
   "id": "d079f4e0-d663-4df5-9e67-ca28669dbacd",
   "metadata": {
    "tags": []
   },
   "source": [
    "# Data Science Tools and Ecosystem \n"
   ]
  },
  {
   "cell_type": "markdown",
   "id": "69a5a412-2365-48be-b6d1-dd2b2c99f814",
   "metadata": {},
   "source": [
    "### In this notebook, Data Science Tools and Ecosystems are summarized"
   ]
  },
  {
   "cell_type": "markdown",
   "id": "6d1f3b2e-a8a8-4b9d-8f2e-670b4e3d965e",
   "metadata": {},
   "source": [
    "### Objectives:\n",
    "1. List Popular languages for Data Science\n",
    "2. List commonly used libraries for Data Science\n",
    "3. List Data Science Tools\n",
    "4. Give examples of evaluating arithmetic expressions in Python"
   ]
  },
  {
   "cell_type": "markdown",
   "id": "e671b4b0-c2b3-4726-ac78-f3709edad264",
   "metadata": {},
   "source": [
    "#### Some of the popular languages that Data Scientists use are:\n",
    "1. Python\n",
    "2. SQL\n",
    "3. R\n",
    "4. Java"
   ]
  },
  {
   "cell_type": "markdown",
   "id": "7e3c97c5-69e4-4633-9165-14faac98c054",
   "metadata": {},
   "source": [
    "#### Some of the commonly used libraries used by Data Scientists include:\n",
    "1. Pandas\n",
    "2. NumPY\n",
    "3. SciPy\n"
   ]
  },
  {
   "cell_type": "markdown",
   "id": "7032b298-707e-437a-b5ce-8262024dca1d",
   "metadata": {},
   "source": [
    "| Data Science Tools |\n",
    "|--------------------|\n",
    "| RStudio |\n",
    "| Apache Spark |\n",
    "| TensorFlow |"
   ]
  },
  {
   "cell_type": "markdown",
   "id": "e8611f61-fb6c-484f-a29f-eb2a0a8e5119",
   "metadata": {},
   "source": [
    "### Below are a few examples of evaluating arithmetic expressions in Python\n"
   ]
  },
  {
   "cell_type": "code",
   "execution_count": 4,
   "id": "458bbd1e-0d2c-402e-a6c9-877e13af3594",
   "metadata": {
    "tags": []
   },
   "outputs": [
    {
     "data": {
      "text/plain": [
       "17"
      ]
     },
     "execution_count": 4,
     "metadata": {},
     "output_type": "execute_result"
    }
   ],
   "source": [
    "# This is a simple arithmetic expression to multiply then add integers\n",
    "(3*4)+5"
   ]
  },
  {
   "cell_type": "code",
   "execution_count": 3,
   "id": "99a8ea3c-1bc5-4e8f-b9b6-78d536efdf5a",
   "metadata": {
    "tags": []
   },
   "outputs": [
    {
     "data": {
      "text/plain": [
       "3.3333333333333335"
      ]
     },
     "execution_count": 3,
     "metadata": {},
     "output_type": "execute_result"
    }
   ],
   "source": [
    "# This will convert 200 minutes to hours by dividing by 60\n",
    "200/60"
   ]
  },
  {
   "cell_type": "markdown",
   "id": "05841028-8050-4af5-9c51-40c809dbaabe",
   "metadata": {},
   "source": [
    "## Author\n",
    "Isha Agrawal"
   ]
  },
  {
   "cell_type": "code",
   "execution_count": null,
   "id": "4ecd5c56-0265-441b-b12d-383b722f2946",
   "metadata": {},
   "outputs": [],
   "source": []
  }
 ],
 "metadata": {
  "kernelspec": {
   "display_name": "Python",
   "language": "python",
   "name": "conda-env-python-py"
  },
  "language_info": {
   "codemirror_mode": {
    "name": "ipython",
    "version": 3
   },
   "file_extension": ".py",
   "mimetype": "text/x-python",
   "name": "python",
   "nbconvert_exporter": "python",
   "pygments_lexer": "ipython3",
   "version": "3.7.12"
  }
 },
 "nbformat": 4,
 "nbformat_minor": 5
}
